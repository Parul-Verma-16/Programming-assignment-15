{
 "cells": [
  {
   "cell_type": "markdown",
   "id": "7ad0d115",
   "metadata": {},
   "source": [
    "## 1) Please write a program using generator to print the numbers which can be divisible by 5 and 7 between 0 and n in comma separated form while n is input by console."
   ]
  },
  {
   "cell_type": "code",
   "execution_count": 2,
   "id": "141e304b",
   "metadata": {},
   "outputs": [
    {
     "name": "stdout",
     "output_type": "stream",
     "text": [
      "Enter a value for n: 35\n",
      "0,35\n"
     ]
    }
   ],
   "source": [
    "def divisible_by_5_and_7(n):\n",
    "    for num in range(n+1):\n",
    "        if num % 5 == 0 and num % 7 == 0:\n",
    "            yield str(num)\n",
    "\n",
    "# Read input from console\n",
    "n = int(input(\"Enter a value for n: \"))\n",
    "\n",
    "# Generate the divisible numbers\n",
    "numbers = divisible_by_5_and_7(n)\n",
    "\n",
    "# Print the numbers in comma-separated form\n",
    "print(','.join(numbers))"
   ]
  },
  {
   "cell_type": "markdown",
   "id": "5959bfc3",
   "metadata": {},
   "source": [
    "## 2) Please write a program using generator to print the even numbers between 0 and n in comma separated form while n is input by console."
   ]
  },
  {
   "cell_type": "code",
   "execution_count": 3,
   "id": "285f5570",
   "metadata": {},
   "outputs": [
    {
     "name": "stdout",
     "output_type": "stream",
     "text": [
      "Enter a value for n: 45\n",
      "0,2,4,6,8,10,12,14,16,18,20,22,24,26,28,30,32,34,36,38,40,42,44\n"
     ]
    }
   ],
   "source": [
    "def even_numbers(n):\n",
    "    for num in range(n+1):\n",
    "        if num % 2 == 0:\n",
    "            yield str(num)\n",
    "\n",
    "# Read input from console\n",
    "n = int(input(\"Enter a value for n: \"))\n",
    "\n",
    "# Generate the even numbers\n",
    "numbers = even_numbers(n)\n",
    "\n",
    "# Print the numbers in comma-separated form\n",
    "print(','.join(numbers))"
   ]
  },
  {
   "cell_type": "markdown",
   "id": "e2778a75",
   "metadata": {},
   "source": [
    "## 3) The Fibonacci Sequence is computed based on the following formula:\n",
    "## f(n)=0 if n=0\n",
    "## f(n)=1 if n=1\n",
    "## f(n)=f(n-1)+f(n-2) if n&gt;1\n",
    "## Please write a program using list comprehension to print the Fibonacci Sequence in comma separated form with a given n input by console."
   ]
  },
  {
   "cell_type": "code",
   "execution_count": 5,
   "id": "093de60c",
   "metadata": {},
   "outputs": [
    {
     "name": "stdout",
     "output_type": "stream",
     "text": [
      "Enter a value for n: 45\n",
      "0,1,1,2,3,5,8,13,21,34,55,89,144,233,377,610,987,1597,2584,4181,6765,10946,17711,28657,46368,75025,121393,196418,317811,514229,832040,1346269,2178309,3524578,5702887,9227465,14930352,24157817,39088169,63245986,102334155,165580141,267914296,433494437,701408733\n"
     ]
    }
   ],
   "source": [
    "def fibonacci_sequence(n):\n",
    "    sequence = [0, 1]\n",
    "    while len(sequence) < n:\n",
    "        next_number = sequence[-1] + sequence[-2]\n",
    "        sequence.append(next_number)\n",
    "    return sequence[:n]\n",
    "\n",
    "# Read input from console\n",
    "n = int(input(\"Enter a value for n: \"))\n",
    "\n",
    "# Generate the Fibonacci Sequence\n",
    "sequence = fibonacci_sequence(n)\n",
    "\n",
    "# Print the sequence in comma-separated form\n",
    "print(','.join(map(str, sequence)))"
   ]
  },
  {
   "cell_type": "markdown",
   "id": "18dcd6f5",
   "metadata": {},
   "source": [
    "## 4) Assuming that we have some email addresses in the \"username@companyname.com\" format, please write program to print the user name of a given email address. Both user names and company names are composed of letters only."
   ]
  },
  {
   "cell_type": "code",
   "execution_count": 6,
   "id": "4b5a83ff",
   "metadata": {},
   "outputs": [
    {
     "name": "stdout",
     "output_type": "stream",
     "text": [
      "Enter an email address: parul2116@gmail.com\n",
      "parul2116\n"
     ]
    }
   ],
   "source": [
    "def get_username(email):\n",
    "    username = email.split('@')[0]\n",
    "    return username\n",
    "\n",
    "# Read input from console\n",
    "email = input(\"Enter an email address: \")\n",
    "\n",
    "# Extract the username from the email address\n",
    "username = get_username(email)\n",
    "\n",
    "# Print the username\n",
    "print(username)"
   ]
  },
  {
   "cell_type": "markdown",
   "id": "c7123ffb",
   "metadata": {},
   "source": [
    "## 5) Define a class named Shape and its subclass Square. The Square class has an init function which takes a length as argument. Both classes have a area function which can print the area of the shape where Shape&#39;s area is 0 by default."
   ]
  },
  {
   "cell_type": "code",
   "execution_count": 7,
   "id": "e87c1d01",
   "metadata": {},
   "outputs": [
    {
     "name": "stdout",
     "output_type": "stream",
     "text": [
      "Area of the shape: 25\n"
     ]
    }
   ],
   "source": [
    "class Shape:\n",
    "    def __init__(self):\n",
    "        self.area = 0\n",
    "    \n",
    "    def calculate_area(self):\n",
    "        print(\"Area of the shape:\", self.area)\n",
    "\n",
    "\n",
    "class Square(Shape):\n",
    "    def __init__(self, length):\n",
    "        super().__init__()  # Call the parent class constructor\n",
    "        self.length = length\n",
    "        self.area = self.length ** 2\n",
    "\n",
    "\n",
    "# Create an instance of the Square class\n",
    "square = Square(5)\n",
    "\n",
    "# Calculate and print the area of the square\n",
    "square.calculate_area()"
   ]
  }
 ],
 "metadata": {
  "kernelspec": {
   "display_name": "Python 3 (ipykernel)",
   "language": "python",
   "name": "python3"
  },
  "language_info": {
   "codemirror_mode": {
    "name": "ipython",
    "version": 3
   },
   "file_extension": ".py",
   "mimetype": "text/x-python",
   "name": "python",
   "nbconvert_exporter": "python",
   "pygments_lexer": "ipython3",
   "version": "3.9.13"
  }
 },
 "nbformat": 4,
 "nbformat_minor": 5
}
